{
  "nbformat": 4,
  "nbformat_minor": 0,
  "metadata": {
    "colab": {
      "provenance": []
    },
    "kernelspec": {
      "name": "python3",
      "display_name": "Python 3"
    },
    "language_info": {
      "name": "python"
    }
  },
  "cells": [
    {
      "cell_type": "code",
      "execution_count": null,
      "metadata": {
        "colab": {
          "base_uri": "https://localhost:8080/"
        },
        "id": "-tlRxknU9FP_",
        "outputId": "88a9a8e7-34cc-4cc2-adec-20956280eb1c"
      },
      "outputs": [
        {
          "output_type": "stream",
          "name": "stdout",
          "text": [
            "5\t배공빠르고 굿\n",
            "2\t택배가 엉망이네용 저희집 밑에층에 말도없이 놔두고가고\n",
            "5\t아주좋아요 바지 정말 좋아서2개 더 구매했어요 이가격에 대박입니다. 바느질이 조금 엉성하긴 하지만 편하고 가성비 최고예요.\n",
            "2\t선물용으로 빨리 받아서 전달했어야 하는 상품이었는데 머그컵만 와서 당황했습니다. 전화했더니 바로주신다했지만 배송도 누락되어있었네요.. 확인안하고 바로 선물했으면 큰일날뻔했네요..이렇게 배송이 오래걸렸으면 사는거 다시 생각했을거같아요 아쉽네요..\n",
            "5\t민트색상 예뻐요. 옆 손잡이는 거는 용도로도 사용되네요 ㅎㅎ\n",
            "2\t비추합니다 계란 뒤집을 때 완전 불편해요 ㅠㅠ 코팅도 묻어나고 보기엔 예쁘고 실용적으로 보였는데 생각보다 진짜 별로입니다.\n",
            "1\t주문을 11월6에 시켰는데 11월16일에 배송이 왔네요 ㅎㅎㅎ 여기 회사측과는 전화도 안되고 아무런 연락을 받을수가 없으니 답답하신 분들은 다른곳에서 사시는거 추천드립니다\n",
            "2\t넉넉한 길이로 주문했는데도 안 맞네요 별로예요\n",
            "2\t보폴이 계속 때처럼 나오다가 지금은 안나네요~\n",
            "2\t110인데 전문속옷브랜드 위생팬티105보다 작은듯해요. 불편해요. 밴딩부분이 다 신축성없는 일반실로 되어있어 빅사이즈임에도 빅사이즈같지않아요. 입고벗을때 편하게 밴딩부분이 늘어나고 입었을때도 밴딩이 잡아주어야하는데 말이죠.\n"
          ]
        }
      ],
      "source": [
        "import pandas as pd\n",
        "\n",
        "with open(\"naver_shopping.txt\", \"r\", encoding=\"utf-8\") as f:\n",
        "    for i in range(10):\n",
        "        print(f.readline().strip())"
      ]
    },
    {
      "cell_type": "code",
      "source": [
        "import pandas as pd\n",
        "\n",
        "# Load the data\n",
        "file_path = 'naver_shopping.txt'  # Adjust the path as necessary\n",
        "data = pd.read_csv(file_path, sep='\\t', header=None, names=['Score', 'Review'])"
      ],
      "metadata": {
        "id": "MfNRjpdbAxkr"
      },
      "execution_count": null,
      "outputs": []
    },
    {
      "cell_type": "code",
      "source": [
        "print(data.head())"
      ],
      "metadata": {
        "colab": {
          "base_uri": "https://localhost:8080/"
        },
        "id": "vHB2jkPRBDPO",
        "outputId": "82e27a52-9e3d-4f85-867c-746946d3fc7b"
      },
      "execution_count": null,
      "outputs": [
        {
          "output_type": "stream",
          "name": "stdout",
          "text": [
            "   Score                                             Review\n",
            "0      5                                            배공빠르고 굿\n",
            "1      2                      택배가 엉망이네용 저희집 밑에층에 말도없이 놔두고가고\n",
            "2      5  아주좋아요 바지 정말 좋아서2개 더 구매했어요 이가격에 대박입니다. 바느질이 조금 ...\n",
            "3      2  선물용으로 빨리 받아서 전달했어야 하는 상품이었는데 머그컵만 와서 당황했습니다. 전...\n",
            "4      5                  민트색상 예뻐요. 옆 손잡이는 거는 용도로도 사용되네요 ㅎㅎ\n"
          ]
        }
      ]
    },
    {
      "cell_type": "code",
      "source": [
        "from sklearn.model_selection import train_test_split\n",
        "\n",
        "# Step 1: Split into train and temp (80% train, 20% temp)\n",
        "train_data, temp_data = train_test_split(data, test_size=0.2, random_state=42)\n",
        "\n",
        "# Step 2: Split temp into validation and test (10% each)\n",
        "val_data, test_data = train_test_split(temp_data, test_size=0.5, random_state=42)\n",
        "\n",
        "# Check dataset sizes\n",
        "print(f\"Train set: {len(train_data)}\")\n",
        "print(f\"Validation set: {len(val_data)}\")\n",
        "print(f\"Test set: {len(test_data)}\")"
      ],
      "metadata": {
        "colab": {
          "base_uri": "https://localhost:8080/"
        },
        "id": "L1ESc_H6BIFA",
        "outputId": "d617dfc3-d829-4932-c374-7911cd65f797"
      },
      "execution_count": null,
      "outputs": [
        {
          "output_type": "stream",
          "name": "stdout",
          "text": [
            "Train set: 160000\n",
            "Validation set: 20000\n",
            "Test set: 20000\n"
          ]
        }
      ]
    },
    {
      "cell_type": "code",
      "source": [
        "!pip install konlpy"
      ],
      "metadata": {
        "colab": {
          "base_uri": "https://localhost:8080/"
        },
        "id": "Ybuyea1XB1pn",
        "outputId": "55d9ca07-6c01-4311-bde4-5397cdfb5d69"
      },
      "execution_count": null,
      "outputs": [
        {
          "output_type": "stream",
          "name": "stdout",
          "text": [
            "Collecting konlpy\n",
            "  Downloading konlpy-0.6.0-py2.py3-none-any.whl.metadata (1.9 kB)\n",
            "Collecting JPype1>=0.7.0 (from konlpy)\n",
            "  Downloading jpype1-1.5.2-cp311-cp311-manylinux_2_17_x86_64.manylinux2014_x86_64.whl.metadata (4.9 kB)\n",
            "Requirement already satisfied: lxml>=4.1.0 in /usr/local/lib/python3.11/dist-packages (from konlpy) (5.3.1)\n",
            "Requirement already satisfied: numpy>=1.6 in /usr/local/lib/python3.11/dist-packages (from konlpy) (2.0.2)\n",
            "Requirement already satisfied: packaging in /usr/local/lib/python3.11/dist-packages (from JPype1>=0.7.0->konlpy) (24.2)\n",
            "Downloading konlpy-0.6.0-py2.py3-none-any.whl (19.4 MB)\n",
            "\u001b[2K   \u001b[90m━━━━━━━━━━━━━━━━━━━━━━━━━━━━━━━━━━━━━━━━\u001b[0m \u001b[32m19.4/19.4 MB\u001b[0m \u001b[31m33.6 MB/s\u001b[0m eta \u001b[36m0:00:00\u001b[0m\n",
            "\u001b[?25hDownloading jpype1-1.5.2-cp311-cp311-manylinux_2_17_x86_64.manylinux2014_x86_64.whl (494 kB)\n",
            "\u001b[2K   \u001b[90m━━━━━━━━━━━━━━━━━━━━━━━━━━━━━━━━━━━━━━━━\u001b[0m \u001b[32m494.1/494.1 kB\u001b[0m \u001b[31m8.5 MB/s\u001b[0m eta \u001b[36m0:00:00\u001b[0m\n",
            "\u001b[?25hInstalling collected packages: JPype1, konlpy\n",
            "Successfully installed JPype1-1.5.2 konlpy-0.6.0\n"
          ]
        }
      ]
    },
    {
      "cell_type": "code",
      "source": [
        "from konlpy.tag import Okt\n",
        "from tqdm import tqdm\n",
        "\n",
        "okt = Okt()"
      ],
      "metadata": {
        "id": "kC7xLYpECmRA"
      },
      "execution_count": null,
      "outputs": []
    },
    {
      "cell_type": "code",
      "source": [
        "import re\n",
        "\n",
        "def preprocess_text(text):\n",
        "    # Remove special characters, keep only Korean, English, and numbers\n",
        "    text = re.sub(r\"[^ㄱ-ㅎㅏ-ㅣ가-힣a-zA-Z0-9\\s]\", \"\", text)\n",
        "    return text.strip()\n",
        "\n",
        "# Apply preprocessing\n",
        "train_data['Review'] = train_data['Review'].apply(preprocess_text)\n",
        "val_data['Review'] = val_data['Review'].apply(preprocess_text)\n",
        "test_data['Review'] = test_data['Review'].apply(preprocess_text)"
      ],
      "metadata": {
        "id": "HHctBOBNCtGE"
      },
      "execution_count": null,
      "outputs": []
    },
    {
      "cell_type": "code",
      "source": [
        "from konlpy.tag import Okt\n",
        "from tqdm import tqdm\n",
        "tqdm.pandas()\n",
        "\n",
        "# Initialize Okt\n",
        "okt = Okt()\n",
        "\n",
        "# Basic stopwords list\n",
        "stopwords = ['은', '는', '이', '가', '을', '를', '에', '의', '도', '로', '으로', '한', '하다']\n",
        "\n",
        "# Tokenizer with stopword removal\n",
        "def tokenize_and_remove_stopwords(sentence):\n",
        "    tokens = okt.morphs(sentence, stem=True)\n",
        "    tokens = [word for word in tokens if word not in stopwords]\n",
        "    return tokens\n",
        "\n",
        "# Apply to each dataset (now correctly referencing existing splits)\n",
        "train_data['tokens'] = train_data['Review'].progress_apply(tokenize_and_remove_stopwords)\n",
        "val_data['tokens'] = val_data['Review'].progress_apply(tokenize_and_remove_stopwords)\n",
        "test_data['tokens'] = test_data['Review'].progress_apply(tokenize_and_remove_stopwords)"
      ],
      "metadata": {
        "colab": {
          "base_uri": "https://localhost:8080/"
        },
        "id": "JV03fjNfD02g",
        "outputId": "77d2ee28-4ce8-4b02-b2d3-b4b65dfb4779"
      },
      "execution_count": null,
      "outputs": [
        {
          "output_type": "stream",
          "name": "stderr",
          "text": [
            "100%|██████████| 160000/160000 [17:51<00:00, 149.29it/s]\n",
            "100%|██████████| 20000/20000 [02:30<00:00, 133.32it/s]\n",
            "100%|██████████| 20000/20000 [02:29<00:00, 134.04it/s]\n"
          ]
        }
      ]
    },
    {
      "cell_type": "code",
      "source": [
        "# Print a few tokenized reviews\n",
        "for i in range(5):\n",
        "    print(f\"[Original] {train_data['Review'].iloc[i]}\")\n",
        "    print(f\"[Tokens]   {train_data['tokens'].iloc[i]}\")\n",
        "    print(\"—\" * 50)"
      ],
      "metadata": {
        "colab": {
          "base_uri": "https://localhost:8080/"
        },
        "id": "i_f2_ZiMDbw3",
        "outputId": "84150c95-2360-44ff-d516-340261e16fc9"
      },
      "execution_count": null,
      "outputs": [
        {
          "output_type": "stream",
          "name": "stdout",
          "text": [
            "[Original] 이틀정도 설겆이하고 씽크대 청소하고 버립니다 수세미 세균걱정도 덜고 주방도 깔끔해지니 일석이조 입니다\n",
            "[Tokens]   ['이틀', '정도', '설겆', '이하고', '씽', '크다', '청소', '하고', '버리다', '수세미', '세균', '걱정', '덜다', '주방', '깔끔하다', '일석이조', '이다']\n",
            "——————————————————————————————————————————————————\n",
            "[Original] 여러모로 사용하기 편하고 튼튼하고 좋아요\n",
            "[Tokens]   ['여러', '모로', '사용', '편하다', '튼튼하다', '좋다']\n",
            "——————————————————————————————————————————————————\n",
            "[Original] 얇디얇아요 꼭 두장 겹쳐야함 ㅋㅋ\n",
            "[Tokens]   ['얇다', '얇다', '꼭', '두', '장', '겹', '치다', '야하다', 'ㅋㅋ']\n",
            "——————————————————————————————————————————————————\n",
            "[Original] 액정필름 두껍고 튼튼해요 풀커버는 터치가 잘 안돼서 불편할까봐 걱정했는데 터치도 잘돼고 아이폰 잘 깨지는데 풀커버 필름이라 안심되네요\n",
            "[Tokens]   ['액정', '필름', '두껍다', '튼튼하다', '풀', '커버', '터치', '자다', '안', '돼다', '불편하다', '걱정', '터치', '잘', '돼다', '아이폰', '자다', '깨지다', '풀', '커버', '필름', '이라', '안심', '되다']\n",
            "——————————————————————————————————————————————————\n",
            "[Original] 넘 기대했나봐요 첨 써서 그런지 어색해요\n",
            "[Tokens]   ['넘다', '기대하다', '보다', '첨', '써다', '그렇다', '어색하다']\n",
            "——————————————————————————————————————————————————\n"
          ]
        }
      ]
    },
    {
      "cell_type": "code",
      "source": [
        "from tensorflow.keras.preprocessing.text import Tokenizer\n",
        "from tensorflow.keras.preprocessing.sequence import pad_sequences"
      ],
      "metadata": {
        "id": "hHOVOoEnIzjn"
      },
      "execution_count": null,
      "outputs": []
    },
    {
      "cell_type": "code",
      "source": [
        "# Convert tokens back into space-separated strings (for fitting Tokenizer)\n",
        "train_sentences = train_data['tokens'].apply(lambda x: ' '.join(x))\n",
        "val_sentences = val_data['tokens'].apply(lambda x: ' '.join(x))\n",
        "test_sentences = test_data['tokens'].apply(lambda x: ' '.join(x))\n",
        "\n",
        "# Initialize Tokenizer\n",
        "tokenizer = Tokenizer()\n",
        "tokenizer.fit_on_texts(train_sentences)"
      ],
      "metadata": {
        "id": "Z6UYxj7JJafx"
      },
      "execution_count": null,
      "outputs": []
    },
    {
      "cell_type": "code",
      "source": [
        "# Convert sentences to sequences of integers\n",
        "X_train = tokenizer.texts_to_sequences(train_sentences)\n",
        "X_val = tokenizer.texts_to_sequences(val_sentences)\n",
        "X_test = tokenizer.texts_to_sequences(test_sentences)"
      ],
      "metadata": {
        "id": "2fGMl-LVJfjs"
      },
      "execution_count": null,
      "outputs": []
    },
    {
      "cell_type": "code",
      "source": [
        "# Check the max length of sequences to choose padding length\n",
        "max_len = max(len(seq) for seq in X_train)\n",
        "print(f\"Max sequence length: {max_len}\")\n",
        "\n",
        "# Pad sequences\n",
        "X_train_padded = pad_sequences(X_train, maxlen=max_len)\n",
        "X_val_padded = pad_sequences(X_val, maxlen=max_len)\n",
        "X_test_padded = pad_sequences(X_test, maxlen=max_len)"
      ],
      "metadata": {
        "colab": {
          "base_uri": "https://localhost:8080/"
        },
        "id": "RRdT5sBSJqwt",
        "outputId": "f764a968-d7a0-4c5f-c139-c8f93097738a"
      },
      "execution_count": null,
      "outputs": [
        {
          "output_type": "stream",
          "name": "stdout",
          "text": [
            "Max sequence length: 73\n"
          ]
        }
      ]
    },
    {
      "cell_type": "code",
      "source": [
        "# Map scores: 1 or 2 → 0 (negative), 4 or 5 → 1 (positive)\n",
        "train_data['label'] = train_data['Score'].apply(lambda x: 1 if x >= 4 else 0)\n",
        "val_data['label'] = val_data['Score'].apply(lambda x: 1 if x >= 4 else 0)\n",
        "test_data['label'] = test_data['Score'].apply(lambda x: 1 if x >= 4 else 0)\n",
        "\n",
        "y_train = train_data['label']\n",
        "y_val = val_data['label']\n",
        "y_test = test_data['label']"
      ],
      "metadata": {
        "id": "8FqjstMnJsRn"
      },
      "execution_count": null,
      "outputs": []
    },
    {
      "cell_type": "code",
      "source": [
        "import tensorflow as tf\n",
        "from tensorflow.keras.models import Sequential\n",
        "from tensorflow.keras.layers import Embedding, LSTM, Dense, Dropout"
      ],
      "metadata": {
        "id": "nwmfjPX_JvTD"
      },
      "execution_count": null,
      "outputs": []
    },
    {
      "cell_type": "code",
      "source": [
        "vocab_size = len(tokenizer.word_index) + 1  # +1 for padding token\n",
        "print(f\"Vocabulary size: {vocab_size}\")"
      ],
      "metadata": {
        "colab": {
          "base_uri": "https://localhost:8080/"
        },
        "id": "H4bt610KLf1Z",
        "outputId": "cbbc976b-fd8b-462b-c0ee-eb97d95ea8d7"
      },
      "execution_count": null,
      "outputs": [
        {
          "output_type": "stream",
          "name": "stdout",
          "text": [
            "Vocabulary size: 40602\n"
          ]
        }
      ]
    },
    {
      "cell_type": "code",
      "source": [
        "from tensorflow.keras.callbacks import EarlyStopping, ModelCheckpoint\n",
        "\n",
        "# Save the best model (based on val_accuracy)\n",
        "checkpoint = ModelCheckpoint(\n",
        "    'best_lstm_model.h5',\n",
        "    monitor='val_accuracy',\n",
        "    save_best_only=True,\n",
        "    verbose=1\n",
        ")\n",
        "\n",
        "# Stop training when val_loss doesn't improve for 2 epochs\n",
        "early_stop = EarlyStopping(\n",
        "    monitor='val_loss',\n",
        "    patience=2,\n",
        "    restore_best_weights=True,\n",
        "    verbose=1\n",
        ")"
      ],
      "metadata": {
        "id": "6rVzBZGJAgvy"
      },
      "execution_count": null,
      "outputs": []
    },
    {
      "cell_type": "code",
      "source": [
        "model = Sequential()\n",
        "model.add(Embedding(input_dim=vocab_size, output_dim=100))  # Removed input_length\n",
        "model.add(LSTM(128))\n",
        "model.add(Dropout(0.5))\n",
        "model.add(Dense(1, activation='sigmoid'))"
      ],
      "metadata": {
        "id": "TB3x1Kl7LhFV"
      },
      "execution_count": null,
      "outputs": []
    },
    {
      "cell_type": "code",
      "source": [
        "from tensorflow.keras.preprocessing.text import Tokenizer\n",
        "from tensorflow.keras.preprocessing.sequence import pad_sequences\n",
        "\n",
        "# Convert tokens into space-separated strings\n",
        "train_sentences = train_data['tokens'].apply(lambda x: ' '.join(x))\n",
        "val_sentences = val_data['tokens'].apply(lambda x: ' '.join(x))\n",
        "test_sentences = test_data['tokens'].apply(lambda x: ' '.join(x))\n",
        "\n",
        "# Fit tokenizer on train sentences\n",
        "tokenizer = Tokenizer()\n",
        "tokenizer.fit_on_texts(train_sentences)\n",
        "\n",
        "# Convert to integer sequences\n",
        "X_train = tokenizer.texts_to_sequences(train_sentences)\n",
        "X_val = tokenizer.texts_to_sequences(val_sentences)\n",
        "X_test = tokenizer.texts_to_sequences(test_sentences)\n",
        "\n",
        "# Find max length\n",
        "max_len = max(len(seq) for seq in X_train)\n",
        "\n",
        "# Pad sequences\n",
        "X_train_padded = pad_sequences(X_train, maxlen=max_len)\n",
        "X_val_padded = pad_sequences(X_val, maxlen=max_len)\n",
        "X_test_padded = pad_sequences(X_test, maxlen=max_len)\n",
        "\n",
        "# Prepare labels\n",
        "y_train = train_data['label']\n",
        "y_val = val_data['label']\n",
        "y_test = test_data['label']"
      ],
      "metadata": {
        "id": "DmoUAb5sCNDW"
      },
      "execution_count": null,
      "outputs": []
    },
    {
      "cell_type": "code",
      "source": [
        "model.compile(\n",
        "    optimizer='adam',\n",
        "    loss='binary_crossentropy',\n",
        "    metrics=['accuracy']\n",
        ")"
      ],
      "metadata": {
        "id": "Nav7uJ_6CYaE"
      },
      "execution_count": null,
      "outputs": []
    },
    {
      "cell_type": "code",
      "source": [
        "history = model.fit(\n",
        "    X_train_padded, y_train,\n",
        "    epochs=10,  # increase if you want\n",
        "    batch_size=64,\n",
        "    validation_data=(X_val_padded, y_val),\n",
        "    callbacks=[checkpoint, early_stop]\n",
        ")"
      ],
      "metadata": {
        "colab": {
          "base_uri": "https://localhost:8080/"
        },
        "id": "D8xdZ9GeLzRm",
        "outputId": "3004d49e-75da-42c8-83f4-44805449aba8"
      },
      "execution_count": null,
      "outputs": [
        {
          "output_type": "stream",
          "name": "stdout",
          "text": [
            "Epoch 1/10\n",
            "\u001b[1m2500/2500\u001b[0m \u001b[32m━━━━━━━━━━━━━━━━━━━━\u001b[0m\u001b[37m\u001b[0m \u001b[1m0s\u001b[0m 191ms/step - accuracy: 0.8626 - loss: 0.3281\n",
            "Epoch 1: val_accuracy improved from -inf to 0.90455, saving model to best_lstm_model.h5\n"
          ]
        },
        {
          "output_type": "stream",
          "name": "stderr",
          "text": [
            "WARNING:absl:You are saving your model as an HDF5 file via `model.save()` or `keras.saving.save_model(model)`. This file format is considered legacy. We recommend using instead the native Keras format, e.g. `model.save('my_model.keras')` or `keras.saving.save_model(model, 'my_model.keras')`. \n"
          ]
        },
        {
          "output_type": "stream",
          "name": "stdout",
          "text": [
            "\b\b\b\b\b\b\b\b\b\b\b\b\b\b\b\b\b\b\b\b\b\b\b\b\b\b\b\b\b\b\b\b\b\b\b\b\b\b\b\b\b\b\b\b\b\b\b\b\b\b\b\b\b\b\b\b\b\b\b\b\b\b\b\b\b\b\b\b\b\b\b\b\b\b\b\b\b\b\r\u001b[1m2500/2500\u001b[0m \u001b[32m━━━━━━━━━━━━━━━━━━━━\u001b[0m\u001b[37m\u001b[0m \u001b[1m505s\u001b[0m 200ms/step - accuracy: 0.8626 - loss: 0.3281 - val_accuracy: 0.9046 - val_loss: 0.2510\n",
            "Epoch 2/10\n",
            "\u001b[1m2500/2500\u001b[0m \u001b[32m━━━━━━━━━━━━━━━━━━━━\u001b[0m\u001b[37m\u001b[0m \u001b[1m0s\u001b[0m 200ms/step - accuracy: 0.9239 - loss: 0.2107\n",
            "Epoch 2: val_accuracy improved from 0.90455 to 0.91105, saving model to best_lstm_model.h5\n"
          ]
        },
        {
          "output_type": "stream",
          "name": "stderr",
          "text": [
            "WARNING:absl:You are saving your model as an HDF5 file via `model.save()` or `keras.saving.save_model(model)`. This file format is considered legacy. We recommend using instead the native Keras format, e.g. `model.save('my_model.keras')` or `keras.saving.save_model(model, 'my_model.keras')`. \n"
          ]
        },
        {
          "output_type": "stream",
          "name": "stdout",
          "text": [
            "\b\b\b\b\b\b\b\b\b\b\b\b\b\b\b\b\b\b\b\b\b\b\b\b\b\b\b\b\b\b\b\b\b\b\b\b\b\b\b\b\b\b\b\b\b\b\b\b\b\b\b\b\b\b\b\b\b\b\b\b\b\b\b\b\b\b\b\b\b\b\b\b\b\b\b\b\b\b\r\u001b[1m2500/2500\u001b[0m \u001b[32m━━━━━━━━━━━━━━━━━━━━\u001b[0m\u001b[37m\u001b[0m \u001b[1m517s\u001b[0m 206ms/step - accuracy: 0.9239 - loss: 0.2107 - val_accuracy: 0.9111 - val_loss: 0.2399\n",
            "Epoch 3/10\n",
            "\u001b[1m2500/2500\u001b[0m \u001b[32m━━━━━━━━━━━━━━━━━━━━\u001b[0m\u001b[37m\u001b[0m \u001b[1m0s\u001b[0m 191ms/step - accuracy: 0.9385 - loss: 0.1738\n",
            "Epoch 3: val_accuracy did not improve from 0.91105\n",
            "\u001b[1m2500/2500\u001b[0m \u001b[32m━━━━━━━━━━━━━━━━━━━━\u001b[0m\u001b[37m\u001b[0m \u001b[1m546s\u001b[0m 200ms/step - accuracy: 0.9385 - loss: 0.1738 - val_accuracy: 0.9056 - val_loss: 0.2599\n",
            "Epoch 4/10\n",
            "\u001b[1m2500/2500\u001b[0m \u001b[32m━━━━━━━━━━━━━━━━━━━━\u001b[0m\u001b[37m\u001b[0m \u001b[1m0s\u001b[0m 184ms/step - accuracy: 0.9482 - loss: 0.1452\n",
            "Epoch 4: val_accuracy did not improve from 0.91105\n",
            "\u001b[1m2500/2500\u001b[0m \u001b[32m━━━━━━━━━━━━━━━━━━━━\u001b[0m\u001b[37m\u001b[0m \u001b[1m479s\u001b[0m 191ms/step - accuracy: 0.9482 - loss: 0.1452 - val_accuracy: 0.9085 - val_loss: 0.2663\n",
            "Epoch 4: early stopping\n",
            "Restoring model weights from the end of the best epoch: 2.\n"
          ]
        }
      ]
    },
    {
      "cell_type": "code",
      "source": [
        "loss, accuracy = model.evaluate(X_test_padded, y_test)\n",
        "print(f\"Test Accuracy: {accuracy:.4f}\")"
      ],
      "metadata": {
        "colab": {
          "base_uri": "https://localhost:8080/"
        },
        "id": "YjbEQsXOL0bU",
        "outputId": "f4d7b3d4-6854-451c-89c0-03ec147492d4"
      },
      "execution_count": null,
      "outputs": [
        {
          "output_type": "stream",
          "name": "stdout",
          "text": [
            "\u001b[1m625/625\u001b[0m \u001b[32m━━━━━━━━━━━━━━━━━━━━\u001b[0m\u001b[37m\u001b[0m \u001b[1m24s\u001b[0m 39ms/step - accuracy: 0.9128 - loss: 0.2422\n",
            "Test Accuracy: 0.9109\n"
          ]
        }
      ]
    },
    {
      "cell_type": "code",
      "source": [
        "from google.colab import drive\n",
        "drive.mount('/content/drive')"
      ],
      "metadata": {
        "colab": {
          "base_uri": "https://localhost:8080/"
        },
        "id": "RQq0GUVm5mZZ",
        "outputId": "53ff0f0f-10df-48c1-a536-0f7c69029532"
      },
      "execution_count": null,
      "outputs": [
        {
          "output_type": "stream",
          "name": "stdout",
          "text": [
            "Mounted at /content/drive\n"
          ]
        }
      ]
    },
    {
      "cell_type": "code",
      "source": [
        "# Define path (adjust 'MyDrive/your_folder_name' as needed)\n",
        "model_path = '/content/drive/MyDrive/sentiment_lstm_model.h5'\n",
        "\n",
        "# Save the model\n",
        "model.save(model_path)\n",
        "\n",
        "print(f\"Model saved to: {model_path}\")"
      ],
      "metadata": {
        "colab": {
          "base_uri": "https://localhost:8080/"
        },
        "id": "qET_HC93LJf1",
        "outputId": "795ecb08-35e7-419f-8b07-fb23c8daa7bf"
      },
      "execution_count": null,
      "outputs": [
        {
          "output_type": "stream",
          "name": "stderr",
          "text": [
            "WARNING:absl:You are saving your model as an HDF5 file via `model.save()` or `keras.saving.save_model(model)`. This file format is considered legacy. We recommend using instead the native Keras format, e.g. `model.save('my_model.keras')` or `keras.saving.save_model(model, 'my_model.keras')`. \n"
          ]
        },
        {
          "output_type": "stream",
          "name": "stdout",
          "text": [
            "Model saved to: /content/drive/MyDrive/sentiment_lstm_model.h5\n"
          ]
        }
      ]
    },
    {
      "cell_type": "code",
      "source": [
        "import matplotlib.pyplot as plt\n",
        "\n",
        "plt.plot(history.history['accuracy'], label='Train')\n",
        "plt.plot(history.history['val_accuracy'], label='Validation')\n",
        "plt.title('Accuracy over epochs')\n",
        "plt.xlabel('Epoch')\n",
        "plt.ylabel('Accuracy')\n",
        "plt.legend()\n",
        "plt.grid(True)\n",
        "plt.show()"
      ],
      "metadata": {
        "colab": {
          "base_uri": "https://localhost:8080/",
          "height": 472
        },
        "id": "uFeOnZ_qMOLk",
        "outputId": "6fb1baf1-257b-439a-b151-fada7e244efa"
      },
      "execution_count": null,
      "outputs": [
        {
          "output_type": "display_data",
          "data": {
            "text/plain": [
              "<Figure size 640x480 with 1 Axes>"
            ],
            "image/png": "[encoded data removed]"
          },
          "metadata": {}
        }
      ]
    },
    {
      "cell_type": "code",
      "source": [
        "# Predict probabilities\n",
        "y_pred_prob = model.predict(X_test_padded)\n",
        "\n",
        "# Convert probabilities to binary predictions\n",
        "y_pred = (y_pred_prob > 0.5).astype(int).flatten()"
      ],
      "metadata": {
        "colab": {
          "base_uri": "https://localhost:8080/"
        },
        "id": "ZNGsMZnbMcSM",
        "outputId": "b91cf40f-c211-4442-cf72-9290e3058403"
      },
      "execution_count": null,
      "outputs": [
        {
          "output_type": "stream",
          "name": "stdout",
          "text": [
            "\u001b[1m625/625\u001b[0m \u001b[32m━━━━━━━━━━━━━━━━━━━━\u001b[0m\u001b[37m\u001b[0m \u001b[1m25s\u001b[0m 40ms/step\n"
          ]
        }
      ]
    },
    {
      "cell_type": "code",
      "source": [
        "from sklearn.metrics import confusion_matrix, classification_report, accuracy_score, precision_score, recall_score\n",
        "import seaborn as sns\n",
        "import matplotlib.pyplot as plt"
      ],
      "metadata": {
        "id": "K3gQAvU0NM5m"
      },
      "execution_count": null,
      "outputs": []
    },
    {
      "cell_type": "code",
      "source": [
        "cm = confusion_matrix(y_test, y_pred)\n",
        "\n",
        "plt.figure(figsize=(6, 4))\n",
        "sns.heatmap(cm, annot=True, fmt='d', cmap='Blues', xticklabels=['Negative', 'Positive'], yticklabels=['Negative', 'Positive'])\n",
        "plt.xlabel('Predicted')\n",
        "plt.ylabel('Actual')\n",
        "plt.title('Confusion Matrix')\n",
        "plt.show()"
      ],
      "metadata": {
        "colab": {
          "base_uri": "https://localhost:8080/",
          "height": 410
        },
        "id": "hey70paLNaTe",
        "outputId": "8f320b37-9ce3-4c22-b9fa-7e30048b98e8"
      },
      "execution_count": null,
      "outputs": [
        {
          "output_type": "display_data",
          "data": {
            "text/plain": [
              "<Figure size 600x400 with 2 Axes>"
            ],
            "image/png": "[encoded data removed]"
          },
          "metadata": {}
        }
      ]
    },
    {
      "cell_type": "code",
      "source": [
        "print(f\"Accuracy:  {accuracy_score(y_test, y_pred):.4f}\")\n",
        "print(f\"Precision: {precision_score(y_test, y_pred):.4f}\")\n",
        "print(f\"Recall:    {recall_score(y_test, y_pred):.4f}\")\n",
        "\n",
        "# Optional full report\n",
        "print(\"\\nClassification Report:\\n\")\n",
        "print(classification_report(y_test, y_pred, target_names=['Negative', 'Positive']))"
      ],
      "metadata": {
        "colab": {
          "base_uri": "https://localhost:8080/"
        },
        "id": "fUSHEZtKNdEM",
        "outputId": "3a621c42-1dc7-4cb8-8ab6-6198a6e135e1"
      },
      "execution_count": null,
      "outputs": [
        {
          "output_type": "stream",
          "name": "stdout",
          "text": [
            "Accuracy:  0.9109\n",
            "Precision: 0.9124\n",
            "Recall:    0.9113\n",
            "\n",
            "Classification Report:\n",
            "\n",
            "              precision    recall  f1-score   support\n",
            "\n",
            "    Negative       0.91      0.91      0.91      9884\n",
            "    Positive       0.91      0.91      0.91     10116\n",
            "\n",
            "    accuracy                           0.91     20000\n",
            "   macro avg       0.91      0.91      0.91     20000\n",
            "weighted avg       0.91      0.91      0.91     20000\n",
            "\n"
          ]
        }
      ]
    },
    {
      "cell_type": "code",
      "source": [
        "import re\n",
        "\n",
        "def sentiment_predict(new_sentence):\n",
        "    # Text cleaning\n",
        "    new_sentence = re.sub(r'[^ㄱ-ㅎㅏ-ㅣ가-힣 ]', '', new_sentence)\n",
        "\n",
        "    # Tokenizing + stopword removal\n",
        "    new_sentence = okt.morphs(new_sentence, stem=True)\n",
        "    new_sentence = [word for word in new_sentence if word not in stopwords]\n",
        "\n",
        "    # Integer encoding\n",
        "    encoded = tokenizer.texts_to_sequences([new_sentence])\n",
        "\n",
        "    # Padding\n",
        "    pad_new = pad_sequences(encoded, maxlen=max_len)\n",
        "\n",
        "    # Predict\n",
        "    score = float(model.predict(pad_new))\n",
        "\n",
        "    # Output\n",
        "    if score > 0.5:\n",
        "        print(\"{:.2f}% 확률로 긍정 리뷰입니다.\\n\".format(score * 100))\n",
        "    else:\n",
        "        print(\"{:.2f}% 확률로 부정 리뷰입니다.\\n\".format((1 - score) * 100))"
      ],
      "metadata": {
        "id": "h-GOUEgiNgtw"
      },
      "execution_count": null,
      "outputs": []
    },
    {
      "cell_type": "code",
      "source": [
        "sentiment_predict(\"배송이 너무 빠르고 포장도 꼼꼼했어요\")\n",
        "sentiment_predict(\"진짜 별로에요 다시는 안 사고 싶어요\")\n",
        "sentiment_predict(\"이딴게 상품이냐?\")\n",
        "sentiment_predict(\"줘도 안씀\")\n",
        "sentiment_predict(\"다시 구매할 의향 있어요. 다시 사용하고 싶어요\")\n",
        "sentiment_predict(\"개나 줘라\")\n",
        "sentiment_predict(\"욕 나온다 진짜\")\n",
        "sentiment_predict(\"잘 모르겠어요.\")\n",
        "sentiment_predict(\"好\")\n",
        "sentiment_predict(\"不好\")\n",
        "sentiment_predict(\"Good\")\n",
        "sentiment_predict(\"Bad\")"
      ],
      "metadata": {
        "colab": {
          "base_uri": "https://localhost:8080/"
        },
        "id": "sIGrqzxdOqWg",
        "outputId": "af6c68cb-1984-431c-ea84-70e098b76685"
      },
      "execution_count": null,
      "outputs": [
        {
          "output_type": "stream",
          "name": "stdout",
          "text": [
            "\u001b[1m1/1\u001b[0m \u001b[32m━━━━━━━━━━━━━━━━━━━━\u001b[0m\u001b[37m\u001b[0m \u001b[1m0s\u001b[0m 93ms/step\n",
            "97.01% 확률로 긍정 리뷰입니다.\n",
            "\n",
            "\u001b[1m1/1\u001b[0m \u001b[32m━━━━━━━━━━━━━━━━━━━━\u001b[0m\u001b[37m\u001b[0m \u001b[1m0s\u001b[0m 101ms/step\n"
          ]
        },
        {
          "output_type": "stream",
          "name": "stderr",
          "text": [
            "<ipython-input-42-8a19453e84f3>:18: DeprecationWarning: Conversion of an array with ndim > 0 to a scalar is deprecated, and will error in future. Ensure you extract a single element from your array before performing this operation. (Deprecated NumPy 1.25.)\n",
            "  score = float(model.predict(pad_new))\n"
          ]
        },
        {
          "output_type": "stream",
          "name": "stdout",
          "text": [
            "99.78% 확률로 부정 리뷰입니다.\n",
            "\n",
            "\u001b[1m1/1\u001b[0m \u001b[32m━━━━━━━━━━━━━━━━━━━━\u001b[0m\u001b[37m\u001b[0m \u001b[1m0s\u001b[0m 97ms/step\n",
            "99.54% 확률로 부정 리뷰입니다.\n",
            "\n",
            "\u001b[1m1/1\u001b[0m \u001b[32m━━━━━━━━━━━━━━━━━━━━\u001b[0m\u001b[37m\u001b[0m \u001b[1m0s\u001b[0m 90ms/step\n",
            "92.33% 확률로 부정 리뷰입니다.\n",
            "\n",
            "\u001b[1m1/1\u001b[0m \u001b[32m━━━━━━━━━━━━━━━━━━━━\u001b[0m\u001b[37m\u001b[0m \u001b[1m0s\u001b[0m 91ms/step\n",
            "90.20% 확률로 긍정 리뷰입니다.\n",
            "\n",
            "\u001b[1m1/1\u001b[0m \u001b[32m━━━━━━━━━━━━━━━━━━━━\u001b[0m\u001b[37m\u001b[0m \u001b[1m0s\u001b[0m 83ms/step\n",
            "66.37% 확률로 부정 리뷰입니다.\n",
            "\n",
            "\u001b[1m1/1\u001b[0m \u001b[32m━━━━━━━━━━━━━━━━━━━━\u001b[0m\u001b[37m\u001b[0m \u001b[1m0s\u001b[0m 90ms/step\n",
            "76.84% 확률로 부정 리뷰입니다.\n",
            "\n",
            "\u001b[1m1/1\u001b[0m \u001b[32m━━━━━━━━━━━━━━━━━━━━\u001b[0m\u001b[37m\u001b[0m \u001b[1m0s\u001b[0m 86ms/step\n",
            "93.19% 확률로 부정 리뷰입니다.\n",
            "\n",
            "\u001b[1m1/1\u001b[0m \u001b[32m━━━━━━━━━━━━━━━━━━━━\u001b[0m\u001b[37m\u001b[0m \u001b[1m0s\u001b[0m 91ms/step\n",
            "70.72% 확률로 부정 리뷰입니다.\n",
            "\n",
            "\u001b[1m1/1\u001b[0m \u001b[32m━━━━━━━━━━━━━━━━━━━━\u001b[0m\u001b[37m\u001b[0m \u001b[1m0s\u001b[0m 99ms/step\n",
            "70.72% 확률로 부정 리뷰입니다.\n",
            "\n",
            "\u001b[1m1/1\u001b[0m \u001b[32m━━━━━━━━━━━━━━━━━━━━\u001b[0m\u001b[37m\u001b[0m \u001b[1m0s\u001b[0m 86ms/step\n",
            "70.72% 확률로 부정 리뷰입니다.\n",
            "\n",
            "\u001b[1m1/1\u001b[0m \u001b[32m━━━━━━━━━━━━━━━━━━━━\u001b[0m\u001b[37m\u001b[0m \u001b[1m0s\u001b[0m 60ms/step\n",
            "70.72% 확률로 부정 리뷰입니다.\n",
            "\n"
          ]
        }
      ]
    },
    {
      "cell_type": "code",
      "source": [],
      "metadata": {
        "id": "DHUhMTJROr9j"
      },
      "execution_count": null,
      "outputs": []
    }
  ]
}